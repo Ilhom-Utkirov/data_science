{
  "nbformat": 4,
  "nbformat_minor": 0,
  "metadata": {
    "colab": {
      "provenance": [],
      "authorship_tag": "ABX9TyOJRJ9OiuKBOb6gH5MHYCzg",
      "include_colab_link": true
    },
    "kernelspec": {
      "name": "python3",
      "display_name": "Python 3"
    },
    "language_info": {
      "name": "python"
    }
  },
  "cells": [
    {
      "cell_type": "markdown",
      "metadata": {
        "id": "view-in-github",
        "colab_type": "text"
      },
      "source": [
        "<a href=\"https://colab.research.google.com/github/Ilhom-Utkirov/data_science/blob/main/lab8.ipynb\" target=\"_parent\"><img src=\"https://colab.research.google.com/assets/colab-badge.svg\" alt=\"Open In Colab\"/></a>"
      ]
    },
    {
      "cell_type": "code",
      "metadata": {
        "id": "qPej0NOxDg1V",
        "colab": {
          "base_uri": "https://localhost:8080/"
        },
        "outputId": "b8e6d96c-b2ce-41f0-f444-b2e5bfe2692b"
      },
      "source": [
        "from google.colab import drive\n",
        "drive.mount('/content/drive')\n",
        "import os"
      ],
      "execution_count": null,
      "outputs": [
        {
          "output_type": "stream",
          "name": "stdout",
          "text": [
            "Mounted at /content/drive\n"
          ]
        }
      ]
    },
    {
      "cell_type": "code",
      "metadata": {
        "colab": {
          "base_uri": "https://localhost:8080/"
        },
        "id": "OabgacTfFoil",
        "outputId": "8f3370ca-6f87-4cdc-cbbf-30653aeb1bf4"
      },
      "source": [
        "cd /content/drive/My Drive/Colab Notebooks"
      ],
      "execution_count": null,
      "outputs": [
        {
          "output_type": "stream",
          "name": "stdout",
          "text": [
            "/content/drive/My Drive/Colab Notebooks\n"
          ]
        }
      ]
    },
    {
      "cell_type": "code",
      "metadata": {
        "colab": {
          "base_uri": "https://localhost:8080/"
        },
        "id": "nRYiijs2D1uV",
        "outputId": "cc76d1f1-0bfb-43ca-d492-97c2c2145cc4"
      },
      "source": [
        "!wget https://github.com/dbdmg/data-science-lab/raw/master/datasets/weatherww2.zip"
      ],
      "execution_count": null,
      "outputs": [
        {
          "output_type": "stream",
          "name": "stdout",
          "text": [
            "--2021-12-11 21:54:54--  https://github.com/dbdmg/data-science-lab/raw/master/datasets/weatherww2.zip\n",
            "Resolving github.com (github.com)... 140.82.112.3\n",
            "Connecting to github.com (github.com)|140.82.112.3|:443... connected.\n",
            "HTTP request sent, awaiting response... 302 Found\n",
            "Location: https://raw.githubusercontent.com/dbdmg/data-science-lab/master/datasets/weatherww2.zip [following]\n",
            "--2021-12-11 21:54:54--  https://raw.githubusercontent.com/dbdmg/data-science-lab/master/datasets/weatherww2.zip\n",
            "Resolving raw.githubusercontent.com (raw.githubusercontent.com)... 185.199.108.133, 185.199.109.133, 185.199.110.133, ...\n",
            "Connecting to raw.githubusercontent.com (raw.githubusercontent.com)|185.199.108.133|:443... connected.\n",
            "HTTP request sent, awaiting response... 200 OK\n",
            "Length: 1693231 (1.6M) [application/zip]\n",
            "Saving to: ‘weatherww2.zip.2’\n",
            "\n",
            "weatherww2.zip.2    100%[===================>]   1.61M  --.-KB/s    in 0.06s   \n",
            "\n",
            "2021-12-11 21:54:55 (25.1 MB/s) - ‘weatherww2.zip.2’ saved [1693231/1693231]\n",
            "\n"
          ]
        }
      ]
    },
    {
      "cell_type": "code",
      "metadata": {
        "id": "1-GrHzO1Dpdw"
      },
      "source": [
        "#!unzip /content/drive/MyDrive/Colab Notebooks/weatherww2.zip"
      ],
      "execution_count": null,
      "outputs": []
    },
    {
      "cell_type": "code",
      "metadata": {
        "colab": {
          "base_uri": "https://localhost:8080/"
        },
        "id": "7PvUOxAGn8vw",
        "outputId": "f387ae8f-946f-4f94-c452-75f7bdfa6678"
      },
      "source": [
        "# data1 = os.listdir(path='/content/drive/MyDrive/Colab Notebooks/weatherww2/SummaryofWeather.csv')\n",
        "# test1 = os.listdir(path='/content/drive/MyDrive/Colab Notebooks/weatherww2/WeatherStationLocations.csv')\n",
        "import pandas as pd\n",
        "summary = pd.read_csv('/content/drive/MyDrive/Colab Notebooks/weatherww2/SummaryofWeather.csv')\n",
        "weather = pd.read_csv('/content/drive/MyDrive/Colab Notebooks/weatherww2/WeatherStationLocations.csv')\n",
        "print(summary.shape)\n",
        "print(summary.loc[2])\n",
        "# print(summary.iloc[:1])\n",
        "print(summary.iloc[:1, :1])"
      ],
      "execution_count": null,
      "outputs": [
        {
          "output_type": "stream",
          "name": "stderr",
          "text": [
            "/usr/local/lib/python3.7/dist-packages/IPython/core/interactiveshell.py:2718: DtypeWarning: Columns (7,8,18,25) have mixed types.Specify dtype option on import or set low_memory=False.\n",
            "  interactivity=interactivity, compiler=compiler, result=result)\n"
          ]
        },
        {
          "output_type": "stream",
          "name": "stdout",
          "text": [
            "(119040, 31)\n",
            "STA               10001\n",
            "Date           1942-7-3\n",
            "Precip             2.54\n",
            "WindGustSpd         NaN\n",
            "MaxTemp         26.1111\n",
            "MinTemp         22.2222\n",
            "MeanTemp        24.4444\n",
            "Snowfall              0\n",
            "PoorWeather         NaN\n",
            "YR                   42\n",
            "MO                    7\n",
            "DA                    3\n",
            "PRCP                0.1\n",
            "DR                  NaN\n",
            "SPD                 NaN\n",
            "MAX                  79\n",
            "MIN                  72\n",
            "MEA                  76\n",
            "SNF                   0\n",
            "SND                 NaN\n",
            "FT                  NaN\n",
            "FB                  NaN\n",
            "FTI                 NaN\n",
            "ITH                 NaN\n",
            "PGT                 NaN\n",
            "TSHDSBRSGF          NaN\n",
            "SD3                 NaN\n",
            "RHX                 NaN\n",
            "RHN                 NaN\n",
            "RVG                 NaN\n",
            "WTE                 NaN\n",
            "Name: 2, dtype: object\n",
            "     STA\n",
            "0  10001\n"
          ]
        }
      ]
    },
    {
      "cell_type": "code",
      "source": [
        "summary.shape\n",
        "print(weather.shape)\n",
        "print(weather.loc[2])"
      ],
      "metadata": {
        "colab": {
          "base_uri": "https://localhost:8080/"
        },
        "id": "h5vp1DN7mAyc",
        "outputId": "20e8806b-c7e8-465f-9c48-1ba5ebeeeed9"
      },
      "execution_count": null,
      "outputs": [
        {
          "output_type": "stream",
          "name": "stdout",
          "text": [
            "(161, 8)\n",
            "WBAN                         33023\n",
            "NAME                MAISON BLANCHE\n",
            "STATE/COUNTRY ID                AL\n",
            "LAT                          3643N\n",
            "LON                         00314E\n",
            "ELEV                            23\n",
            "Latitude                   36.7167\n",
            "Longitude                  3.21667\n",
            "Name: 2, dtype: object\n"
          ]
        }
      ]
    },
    {
      "cell_type": "code",
      "source": [
        "import numpy as np\n",
        "\n",
        "def func1 (t, X):\n",
        "  if t==1:\n",
        "    # f1(x) = x*sin(x) + 2*x\n",
        "    return X*np.sin(X)+2*X\n",
        "  if t==2:\n",
        "    #f2(x) = 10 sin(x) + x^2\n",
        "    return 10*np.sin(X)+X**2\n",
        "  if t==3:\n",
        "    #f(x)= sign(x)(x^2 + 300) + 20 sin(x)\n",
        "    return np.sign(X)*(X**2+300)+20*np.sin(X)\n"
      ],
      "metadata": {
        "id": "Tu92jRU8BMmr"
      },
      "execution_count": null,
      "outputs": []
    },
    {
      "cell_type": "code",
      "source": [
        "from sklearn.model_selection import train_test_split\n",
        "tr = 20\n",
        "n_samples = 100\n",
        "X = np.array(np.linspace(-tr, tr, n_samples)).reshape(-1,1)\n",
        "y = np.array(func1(1, X)).reshape(-1,1)\n",
        "y2 = func1(2, X)\n",
        "y3 = func1(3, X)\n",
        "X_train, X_test, y_train, y_test = train_test_split(X, y, train_size=0.7, random_state=42, shuffle=True)\n",
        "X_train2, X_test2, y_train2, y_test2 = train_test_split(X, y2, train_size=0.7, random_state=42, shuffle=True)\n",
        "X_train3, X_test3, y_train3, y_test3 = train_test_split(X, y3, train_size=0.7, random_state=42, shuffle=True)\n",
        "y_test = y_test[X_test.argsort()]\n",
        "X_test.sort()\n"
      ],
      "metadata": {
        "id": "kN6kXVNzDBs5"
      },
      "execution_count": null,
      "outputs": []
    },
    {
      "cell_type": "code",
      "source": [
        "import matplotlib.pyplot as plt\n",
        "#1st funct\n",
        "fig, ax = plt.subplots()\n",
        "ax.plot(X, y, color='cornflowerblue',  label=\"ground truth\") #linewidth=.5*LW,\n",
        "#2nd funct\n",
        "fig, ax = plt.subplots()\n",
        "ax.plot(X, y2, color='cornflowerblue',  label=\"ground truth\") #linewidth=.5*LW,\n",
        "#3rd funct\n",
        "fig, ax = plt.subplots()\n",
        "ax.plot(X, y3, color='cornflowerblue',  label=\"ground truth\") #linewidth=.5*LW,"
      ],
      "metadata": {
        "colab": {
          "base_uri": "https://localhost:8080/",
          "height": 778
        },
        "id": "n-nWZIL2EOvM",
        "outputId": "1ed117c9-fa22-485e-d35c-4ad4d1a90b9f"
      },
      "execution_count": null,
      "outputs": [
        {
          "output_type": "execute_result",
          "data": {
            "text/plain": [
              "[<matplotlib.lines.Line2D at 0x7f845b0e5290>]"
            ]
          },
          "metadata": {},
          "execution_count": 66
        },
        {
          "output_type": "display_data",
          "data": {
            "image/png": "[encoded data removed]",
            "text/plain": [
              "<Figure size 432x288 with 1 Axes>"
            ]
          },
          "metadata": {
            "needs_background": "light"
          }
        },
        {
          "output_type": "display_data",
          "data": {
            "image/png": "[encoded data removed]",
            "text/plain": [
              "<Figure size 432x288 with 1 Axes>"
            ]
          },
          "metadata": {
            "needs_background": "light"
          }
        },
        {
          "output_type": "display_data",
          "data": {
            "image/png": "[encoded data removed]",
            "text/plain": [
              "<Figure size 432x288 with 1 Axes>"
            ]
          },
          "metadata": {
            "needs_background": "light"
          }
        }
      ]
    },
    {
      "cell_type": "code",
      "source": [
        "print(X_train.shape)\n",
        "print(y_train.shape)\n",
        "print(X_train[1])\n",
        "print(type(X_train))\n",
        "print(type(y_train))\n",
        "#change shape to (n,1)\n",
        "X_train = np.array(X_train).reshape(-1,1)\n",
        "y_train = np.array(y_train).reshape(-1,1)\n",
        "X_test = np.array(X_test).reshape(-1,1)\n",
        "y_test = np.array(y_test).reshape(-1,1)\n",
        "print(X_train.shape, y_train.shape,X_test.shape, y_test.shape)\n",
        "\n",
        "X_train2 = np.array(X_train2).reshape(-1,1)\n",
        "y_train2 = np.array(y_train2).reshape(-1,1)\n",
        "X_test2 = np.array(X_test2).reshape(-1,1)\n",
        "y_test2 = np.array(y_test2).reshape(-1,1)\n",
        "print(X_train2.shape, y_train2.shape,X_test2.shape, y_test2.shape)\n",
        "\n",
        "X_train3 = np.array(X_train3).reshape(-1,1)\n",
        "y_train3 = np.array(y_train3).reshape(-1,1)\n",
        "X_test3 = np.array(X_test3).reshape(-1,1)\n",
        "y_test3 = np.array(y_test3).reshape(-1,1)\n",
        "\n",
        "print(X_train3.shape, y_train3.shape,X_test3.shape, y_test3.shape)"
      ],
      "metadata": {
        "colab": {
          "base_uri": "https://localhost:8080/"
        },
        "id": "kjtz5lEOghcv",
        "outputId": "fe411cc2-98e2-45d3-b4d3-7ecbcd255fc6"
      },
      "execution_count": null,
      "outputs": [
        {
          "output_type": "stream",
          "name": "stdout",
          "text": [
            "(70, 1)\n",
            "(70, 1)\n",
            "[-1.01010101]\n",
            "<class 'numpy.ndarray'>\n",
            "<class 'numpy.ndarray'>\n",
            "(70, 1) (70, 1) (30, 1) (30, 1)\n",
            "(70, 1) (70, 1) (30, 1) (30, 1)\n",
            "(70, 1) (70, 1) (30, 1) (30, 1)\n"
          ]
        }
      ]
    },
    {
      "cell_type": "code",
      "source": [
        "from sklearn.linear_model import LinearRegression\n",
        "from sklearn.metrics import mean_absolute_error, mean_squared_error, r2_score\n",
        "from sklearn.model_selection import cross_val_score\n",
        "\n",
        "#reshaping is needed but we did it before\n",
        "reg = LinearRegression(fit_intercept = True)\n",
        "reg.fit(X_train, y_train)\n",
        "y_test_pred = reg.predict(X_test)\n",
        "\n",
        "#check accuracies\n",
        "print(mean_absolute_error(y_test, y_test_pred, multioutput='raw_values'))\n",
        "print(mean_squared_error(y_test, y_test_pred, squared=False))\n",
        "print(f\"r2 = {r2_score(y_test, y_test_pred)}\")\n",
        "\n",
        "#cros validation\n",
        "reg = LinearRegression()\n",
        "r2 = cross_val_score(reg, X, y, cv=5, scoring='r2')\n",
        "print(f\"cros_val = {r2}\")"
      ],
      "metadata": {
        "id": "6XfTjVoUXd7l",
        "colab": {
          "base_uri": "https://localhost:8080/"
        },
        "outputId": "5c20b5f8-98cf-42f0-a64d-7e4601c55052"
      },
      "execution_count": null,
      "outputs": [
        {
          "output_type": "stream",
          "name": "stdout",
          "text": [
            "[41.09483827]\n",
            "47.375815845104064\n",
            "r2 = 0.0\n",
            "cros_val = [ 0.206667    0.46153619  0.90692778 -0.05456854 -0.01942834]\n"
          ]
        }
      ]
    },
    {
      "cell_type": "code",
      "source": [
        "\n",
        "#2nd funct\n",
        "reg = LinearRegression(fit_intercept = True)\n",
        "reg.fit(X_train2, y_train2)\n",
        "y_test_pred2 = reg.predict(X_test2)\n",
        "\n",
        "#check accuracies\n",
        "print(mean_absolute_error(y_test2, y_test_pred2, multioutput='raw_values'))\n",
        "print(mean_squared_error(y_test2, y_test_pred2, squared=False))\n",
        "print(f\"r2 = {r2_score(y_test2, y_test_pred2)}\")\n",
        "\n",
        "#cros validation\n",
        "reg = LinearRegression()\n",
        "r2 = cross_val_score(reg, X, y2, cv=5, scoring='r2')\n",
        "print(f\"cros_val = {r2}\")"
      ],
      "metadata": {
        "colab": {
          "base_uri": "https://localhost:8080/"
        },
        "id": "fs1j9uFmkF6L",
        "outputId": "2589dbf9-0d38-48cc-f537-72e86a30ce88"
      },
      "execution_count": null,
      "outputs": [
        {
          "output_type": "stream",
          "name": "stdout",
          "text": [
            "[96.64954281]\n",
            "113.69611319515185\n",
            "r2 = -0.018699772461413744\n",
            "cros_val = [ -18.152601     -4.87840887 -396.59789038   -6.16905038  -20.18382569]\n"
          ]
        }
      ]
    },
    {
      "cell_type": "code",
      "source": [
        "\n",
        "#3rd funct\n",
        "reg = LinearRegression(fit_intercept = True)\n",
        "reg.fit(X_train3, y_train3)\n",
        "y_test_pred3 = reg.predict(X_test3)\n",
        "\n",
        "#check accuracies\n",
        "print(mean_absolute_error(y_test3, y_test_pred3, multioutput='raw_values'))\n",
        "print(mean_squared_error(y_test3, y_test_pred3, squared=False))\n",
        "print(f\"r2 = {r2_score(y_test3, y_test_pred3)}\")\n",
        "\n",
        "#cros validation\n",
        "reg = LinearRegression()\n",
        "r2 = cross_val_score(reg, X, y3, cv=5, scoring='r2')\n",
        "print(f\"cros_val = {r2}\")"
      ],
      "metadata": {
        "colab": {
          "base_uri": "https://localhost:8080/"
        },
        "id": "3yfXbainkPq6",
        "outputId": "821c89dd-c73a-4b1a-bc9b-30701a4bc36e"
      },
      "execution_count": null,
      "outputs": [
        {
          "output_type": "stream",
          "name": "stdout",
          "text": [
            "[83.00990342]\n",
            "116.48503744955339\n",
            "r2 = 0.9322327960738965\n",
            "cros_val = [-0.6015829  -6.16895033  0.3973246  -6.16895033 -0.6015829 ]\n"
          ]
        }
      ]
    },
    {
      "cell_type": "code",
      "source": [
        "from sklearn.preprocessing import PolynomialFeatures\n",
        "poly = PolynomialFeatures(5)\n",
        "X_poly = poly.fit_transform(X)"
      ],
      "metadata": {
        "id": "nnSydLnNWaAB"
      },
      "execution_count": null,
      "outputs": []
    },
    {
      "cell_type": "code",
      "source": [
        "from sklearn.pipeline import make_pipeline\n",
        "reg = make_pipeline(PolynomialFeatures(5), LinearRegression())\n",
        "reg.fit(X_train, y_train)\n",
        "y_test_pred = reg.predict(X_test)\n",
        "\n",
        "#check accuracies\n",
        "print(mean_absolute_error(y_test, y_test_pred, multioutput='raw_values'))\n",
        "print(mean_squared_error(y_test, y_test_pred, squared=False))\n",
        "print(r2_score(y_test, y_test_pred))\n",
        "\n",
        "#cros validation\n",
        "reg = LinearRegression()\n",
        "r2 = cross_val_score(reg, X, y, cv=5, scoring='r2')\n",
        "print(r2)\n"
      ],
      "metadata": {
        "id": "dj7te8cRvJJ6",
        "colab": {
          "base_uri": "https://localhost:8080/"
        },
        "outputId": "a68e8152-1406-4e00-cfe2-6803800dd0cf"
      },
      "execution_count": null,
      "outputs": [
        {
          "output_type": "stream",
          "name": "stdout",
          "text": [
            "[41.39317527]\n",
            "47.46749310863721\n",
            "0.0\n",
            "[ 0.206667    0.46153619  0.90692778 -0.05456854 -0.01942834]\n"
          ]
        }
      ]
    },
    {
      "cell_type": "code",
      "source": [
        "from sklearn.linear_model import Ridge\n",
        "import numpy as np\n",
        "n_samples, n_features = 10, 5\n",
        "rng = np.random.RandomState(0)\n",
        "y = rng.randn(n_samples)\n",
        "X = rng.randn(n_samples, n_features)\n",
        "clf = Ridge(alpha=1.0)\n",
        "clf.fit(X_train, y_train)\n",
        "clf.predict(X_test)\n",
        "print(mean_absolute_error(y_test, y_test_pred, multioutput='raw_values'))\n",
        "print(mean_squared_error(y_test, y_test_pred, squared=False))\n",
        "print(r2_score(y_test, y_test_pred))"
      ],
      "metadata": {
        "id": "y7yZrctwvPwZ",
        "colab": {
          "base_uri": "https://localhost:8080/"
        },
        "outputId": "69e105fc-40ea-4347-adc8-86cd40718e05"
      },
      "execution_count": null,
      "outputs": [
        {
          "output_type": "stream",
          "name": "stdout",
          "text": [
            "[41.39317527]\n",
            "47.46749310863721\n",
            "0.0\n"
          ]
        }
      ]
    },
    {
      "cell_type": "code",
      "source": [
        "#from answer\n",
        "from prettytable import PrettyTable\n",
        "from sklearn.linear_model import LinearRegression\n",
        "from sklearn.neural_network import MLPRegressor\n",
        "from sklearn.svm import SVR\n",
        "from sklearn.ensemble import RandomForestRegressor\n",
        "from sklearn.linear_model import Ridge\n",
        "from sklearn.preprocessing import FunctionTransformer, PolynomialFeatures\n",
        "from sklearn.compose import make_column_transformer\n",
        "from sklearn.pipeline import make_pipeline\n"
      ],
      "metadata": {
        "id": "4Hmfbqn7nRpR"
      },
      "execution_count": null,
      "outputs": []
    }
  ]
}